{
 "cells": [
  {
   "cell_type": "markdown",
   "metadata": {},
   "source": [
    "Data sources:\n",
    "- [Vehicles from Traficom](https://tieto.traficom.fi/en/datatraficom/open-data?toggle=Open%20data%20for%20vehicles)\n",
    "- [Municipalities from Statistics Finland](https://stat.fi/en/luokitukset/kunta/)"
   ]
  },
  {
   "cell_type": "code",
   "execution_count": null,
   "metadata": {},
   "outputs": [],
   "source": [
    "# Municipalities data\n",
    "from src.processors.imports import get_municipalities\n",
    "\n",
    "municipalities = get_municipalities()\n",
    "\n",
    "display(municipalities)"
   ]
  },
  {
   "cell_type": "code",
   "execution_count": null,
   "metadata": {},
   "outputs": [],
   "source": [
    "# Vehicles data\n",
    "from src.processors.imports import get_vehicles\n",
    "\n",
    "vehicles = get_vehicles()\n",
    "\n",
    "display(vehicles.dtypes)\n",
    "display(vehicles.shape)\n",
    "display(vehicles.head(10))"
   ]
  },
  {
   "cell_type": "code",
   "execution_count": null,
   "metadata": {},
   "outputs": [],
   "source": [
    "import copy\n",
    "from src.processors.preprocesses import clean\n",
    "\n",
    "df = vehicles.copy(deep=True)\n",
    "mun = copy.deepcopy(municipalities)\n",
    "\n",
    "df = clean(df, mun)\n",
    "\n",
    "# Check which high count Other labeled makers are missing from mapping\n",
    "other_makers = df[df[\"maker\"] == \"Other\"]\n",
    "maker_counts = other_makers[\"maker_text\"].value_counts()\n",
    "top_maker_rows = other_makers[other_makers[\"maker_text\"].isin(maker_counts.index)]\n",
    "top_maker_counts_in_top_rows = top_maker_rows[\"maker_text\"].value_counts().nlargest(10)\n",
    "display(top_maker_counts_in_top_rows)\n",
    "\n",
    "df.reset_index(inplace=True, drop=True)\n",
    "\n",
    "# NA check\n",
    "na_rows = df[df[df.columns].isna().any(axis=1)]\n",
    "\n",
    "# Municipality check\n",
    "df_mun_codes = set(df[\"municipality\"].unique())\n",
    "mun_codes = set(mun.keys())\n",
    "missing = df_mun_codes - mun_codes\n",
    "display(f\"Municipalities mismatch with: {list(missing)}\")\n",
    "\n",
    "# Sanity checks\n",
    "display(df.dtypes)\n",
    "display(df.shape)  # Same size as before\n",
    "display(f\"Min year: {df['registration_year'].min()}\", f\"Max year: {df['registration_year'].max()}\")\n",
    "display(f\"Min mileage: {df['mileage'].min()}\", f\"Max mileage: {df['mileage'].max()}\")\n",
    "display(na_rows)  # Should have none"
   ]
  },
  {
   "cell_type": "code",
   "execution_count": null,
   "metadata": {},
   "outputs": [],
   "source": [
    "# Final data\n",
    "import json\n",
    "import os\n",
    "from src.processors.utils import get_date\n",
    "from src.processors.postprocesses import generate\n",
    "from src.processors.validations import validate\n",
    "\n",
    "date = get_date()\n",
    "final = generate(df, mun, date)\n",
    "valid = validate(final, mun)\n",
    "\n",
    "if valid:\n",
    "    path = os.path.join(os.path.join(os.getcwd(), \"data.json\"))\n",
    "    file = json.dumps(final, indent=2, ensure_ascii=False)\n",
    "    if os.path.isfile(path):\n",
    "        os.remove(path)\n",
    "    with open(path, \"w\", encoding=\"utf-8\") as fh:\n",
    "        fh.write(file)\n",
    "\n",
    "display(final.keys())\n",
    "display(final[\"municipalities\"][0])"
   ]
  }
 ],
 "metadata": {
  "kernelspec": {
   "display_name": ".venv",
   "language": "python",
   "name": "python3"
  },
  "language_info": {
   "codemirror_mode": {
    "name": "ipython",
    "version": 3
   },
   "file_extension": ".py",
   "mimetype": "text/x-python",
   "name": "python",
   "nbconvert_exporter": "python",
   "pygments_lexer": "ipython3",
   "version": "3.13.7"
  }
 },
 "nbformat": 4,
 "nbformat_minor": 2
}
